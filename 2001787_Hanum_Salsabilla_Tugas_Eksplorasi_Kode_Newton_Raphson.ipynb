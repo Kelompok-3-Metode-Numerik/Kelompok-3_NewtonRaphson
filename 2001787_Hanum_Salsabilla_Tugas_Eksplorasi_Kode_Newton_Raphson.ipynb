{
  "nbformat": 4,
  "nbformat_minor": 0,
  "metadata": {
    "colab": {
      "provenance": [],
      "collapsed_sections": []
    },
    "kernelspec": {
      "name": "python3",
      "display_name": "Python 3"
    },
    "language_info": {
      "name": "python"
    }
  },
  "cells": [
    {
      "cell_type": "markdown",
      "source": [
        "**Eksplorasi Kode Newton Raphson**\n",
        "\n",
        "Buatlah fungsi penyelesaian dari persamaan berikut:\n",
        "\n",
        "(1) f(x) = x^2 - 2x - 8\n",
        "\n",
        "(2) f(x) = e^x - 5x^2, nilai awal 2.0\n",
        "\n",
        "(3) f(x) = x^3 -x^2 - 2\n",
        " "
      ],
      "metadata": {
        "id": "uZuJQOdarc2n"
      }
    },
    {
      "cell_type": "markdown",
      "source": [
        "Jawaban nomor 1"
      ],
      "metadata": {
        "id": "4birBiqL4a5L"
      }
    },
    {
      "cell_type": "code",
      "execution_count": null,
      "metadata": {
        "colab": {
          "base_uri": "https://localhost:8080/"
        },
        "id": "IC0Kq6o9lyfU",
        "outputId": "5f21bf50-b5dd-4914-d3b8-92256c50bf25"
      },
      "outputs": [
        {
          "output_type": "stream",
          "name": "stdout",
          "text": [
            "Iterasi ke- 4\n",
            "Akar penyelesaian= 4.000000000076617\n",
            "sqrt(2) = 1.4142135623730951\n"
          ]
        }
      ],
      "source": [
        "import numpy as np # Memanggil library\n",
        "def np_method (f, df, x0, galat, iterasi):\n",
        "# df merupakan turunan fungsi dari f\n",
        "# x0 merupakan starting point-nya \n",
        "  # Dalam kasus ini, x0 mengambil angka 3.75\n",
        "  \n",
        "  iterasi += 1 # Pernyataan inkremental\n",
        "  if iterasi == 4: # Asumsi berhenti di iterasi ke-4\n",
        "    print('Iterasi ke-', iterasi)\n",
        "    return x0 # Mengembalikan nilai x0-nya\n",
        "  else:\n",
        "    return np_method (f, df, x0 - f(x0)/df(x0), galat, iterasi) \n",
        "\n",
        "f = lambda x: x**2 - 2*x - 8\n",
        "f_prime = lambda x: 2*x - 2\n",
        "\n",
        "estimate = np_method (f, f_prime, 3.75, 1e-10, 0) # 0 menunjukkan iterasi ke-0\n",
        "print(\"Akar penyelesaian=\", estimate)\n",
        "print(\"sqrt(2) =\", np.sqrt(2))"
      ]
    },
    {
      "cell_type": "markdown",
      "source": [
        "Akar penyelesaian sesuai dengan pembahasan minggu kemarin dengan metode bisection."
      ],
      "metadata": {
        "id": "BLQTJEUerQnX"
      }
    },
    {
      "cell_type": "markdown",
      "source": [
        "Jawaban nomor 2"
      ],
      "metadata": {
        "id": "6vJRnG0S48KX"
      }
    },
    {
      "cell_type": "code",
      "source": [
        "import numpy # Memanggil library\n",
        "f = lambda x: numpy.exp(x)-(5*(x**2))\n",
        "tf = lambda x: numpy.exp(x)-10*x\n",
        "\n",
        "x=2.0 # Nilai awal (X0)\n",
        "\n",
        "itemax=100 # Perkiraan Iterasi Maksimal\n",
        "eps=1.0e-6 # Galat (Epsilonnya)\n",
        "\n",
        "print(\"|it|   x     |   fx    |    tfx  |\")\n",
        "print(\"----------------------------------------------------------\")\n",
        "\n",
        "for n in range(0,itemax):\n",
        "    if abs(f(x)) >= eps:\n",
        "      print('|{:2}|{:=9.5f}|{:=9.5f}|{:=9.5f}|'.format(n, x, f(x), tf(x)))\n",
        "      x = x - (f(x)/tf(x))\n",
        "      xi = x\n",
        "print(\"Akar ditemukan pada x = {:8.6f}\".format (xi))"
      ],
      "metadata": {
        "colab": {
          "base_uri": "https://localhost:8080/"
        },
        "id": "4aIyocwT4_Q1",
        "outputId": "f36b6d99-17d0-495a-c915-d5730fc61d50"
      },
      "execution_count": 4,
      "outputs": [
        {
          "output_type": "stream",
          "name": "stdout",
          "text": [
            "|it|   x     |   fx    |    tfx  |\n",
            "----------------------------------------------------------\n",
            "| 0|  2.00000|-12.61094|-12.61094|\n",
            "| 1|  1.00000|- 2.28172|- 7.28172|\n",
            "| 2|  0.68665|- 0.37040|- 4.87946|\n",
            "| 3|  0.61074|- 0.02323|- 4.26562|\n",
            "| 4|  0.60530|- 0.00012|- 4.22116|\n",
            "Akar ditemukan pada x = 0.605267\n"
          ]
        }
      ]
    },
    {
      "cell_type": "markdown",
      "source": [
        "Jawaban nomor 3"
      ],
      "metadata": {
        "id": "q0cXe3zO73e1"
      }
    },
    {
      "cell_type": "code",
      "source": [
        "def f(x): # Mendefinisikan soalnya\n",
        "  return x**3 - x*x - 2\n",
        "def df(x): # Dihitung turunannya\n",
        "  return 3*x*x - 2*x\n",
        "a = float (input(\"Masukkan nilai awal= \")) # Memasukkan nilai awal melalui keyboard\n",
        "n=int(input(\"Sampai iterasi berapa? \")) # Iterasi yang diinginkan\n",
        "k=1\n",
        "while(k<=n):\n",
        "  r=a-f(a)/df(a) # Rumus Pokok Newton Raphson\n",
        "  print(\"Akar penyelesaian bernilai\", r, \"ada pada iterasi ke-\", k)\n",
        "  k=k+1\n",
        "  a=r"
      ],
      "metadata": {
        "colab": {
          "base_uri": "https://localhost:8080/"
        },
        "id": "UXMFrkWw748w",
        "outputId": "0b032252-cd5a-4e4c-bf7a-8ab111d5f5c3"
      },
      "execution_count": 8,
      "outputs": [
        {
          "output_type": "stream",
          "name": "stdout",
          "text": [
            "Masukkan nilai awal= 1.5\n",
            "Sampai iterasi berapa? 5\n",
            "Akar penyelesaian bernilai 1.7333333333333334 ada pada iterasi ke- 1\n",
            "Akar penyelesaian bernilai 1.6966880341880342 ada pada iterasi ke- 2\n",
            "Akar penyelesaian bernilai 1.695621657925028 ada pada iterasi ke- 3\n",
            "Akar penyelesaian bernilai 1.6956207695604781 ada pada iterasi ke- 4\n",
            "Akar penyelesaian bernilai 1.6956207695598622 ada pada iterasi ke- 5\n"
          ]
        }
      ]
    }
  ]
}