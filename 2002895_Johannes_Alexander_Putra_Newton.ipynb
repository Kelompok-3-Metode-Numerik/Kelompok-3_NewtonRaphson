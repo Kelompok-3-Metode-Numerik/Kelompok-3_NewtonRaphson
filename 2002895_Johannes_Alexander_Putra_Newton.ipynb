{
  "nbformat": 4,
  "nbformat_minor": 0,
  "metadata": {
    "colab": {
      "provenance": [],
      "collapsed_sections": []
    },
    "kernelspec": {
      "name": "python3",
      "display_name": "Python 3"
    },
    "language_info": {
      "name": "python"
    }
  },
  "cells": [
    {
      "cell_type": "markdown",
      "source": [
        "## **Akar Persamaan Non-Linier**\n",
        "Berikut ini merupakan fungsi dasar dari metode yang dapat digunakan untuk mencari akar Persamaan non-Linier"
      ],
      "metadata": {
        "id": "Tlb0XvJxS_oW"
      }
    },
    {
      "cell_type": "markdown",
      "source": [
        "Oleh Johannes Alexander Putra\n",
        "20002895\n",
        "Kelompok 3"
      ],
      "metadata": {
        "id": "W0qFXMOC00uT"
      }
    },
    {
      "cell_type": "markdown",
      "source": [
        "# **Latihan**"
      ],
      "metadata": {
        "id": "_l79MbNaaO9N"
      }
    },
    {
      "cell_type": "markdown",
      "source": [
        "\n",
        "**No.1**\n",
        "Buatlah sebuah fungsi penyelesaian yang tepat baik dengan menggunakan metode Bagi Dua maupun Newton Raphson ketika \n",
        "\n",
        "a. f(x) = x^3 - 2x + 1\n",
        "\n",
        "b. f(x) = e^x - x\n",
        "\n",
        "c. f(x) = x^2 - 2x - 8\n",
        "\n",
        "**No 2**\n",
        "\n",
        "Buatlah modifikasi fungsi ketika kriteria program berhenti adalah sudah mencapai pada iterasi ke-n baik untuk Bagi Dua maupun Newton Raphson"
      ],
      "metadata": {
        "id": "XX6f9MQOaTas"
      }
    },
    {
      "cell_type": "markdown",
      "source": [
        "Jawaban no 1. Dengan Metode Newton (cara 1)\n",
        "\n",
        "\n",
        "\n"
      ],
      "metadata": {
        "id": "UUu4gzRGOOuU"
      }
    },
    {
      "cell_type": "code",
      "source": [
        "import numpy as np #panggil library\n",
        "def my_newton(f, df, x0, e):\n",
        "#df turunan fungsi f\n",
        "#x0 adalah starting point/ perkiraan pertama\n",
        "  if abs(f(x0)) < e:\n",
        "    return x0\n",
        "  else:\n",
        "    return my_newton(f, df, x0 - f(x0)/df(x0), e)"
      ],
      "metadata": {
        "id": "aRw35GE1OSsz"
      },
      "execution_count": null,
      "outputs": []
    },
    {
      "cell_type": "code",
      "source": [
        "#1a\n",
        "#iterasi dimulai dari iterasi ke-0 menurut buku pa rinaldi munir\n",
        "import numpy as np #panggil library\n",
        "def my_newton(f, df, x0, galat,iterasi):\n",
        "#df turunan fungsi f\n",
        "#x0 adalah starting point\n",
        "  if abs(f(x0)) < galat:\n",
        "    print(\"Melakukan Iterasi sebanyak \", iterasi , \" kali\")\n",
        "    return x0\n",
        "  else:\n",
        "    iterasi = iterasi + 1\n",
        "    return my_newton(f, df, x0 - f(x0)/df(x0), galat,iterasi)\n",
        "f = lambda x: x**3 - 2*x + 1\n",
        "f_prime = lambda x: (3*x**2)-2\n",
        "#dugaan pertama -1.7 dan galatnya 0.00005\n",
        "estimate = my_newton(f, f_prime, -1.7, 1e-5,0) #Jika x0 adalah -1.7 dan galat 0.0001\n",
        "print(\"estimate =\", estimate)\n"
      ],
      "metadata": {
        "colab": {
          "base_uri": "https://localhost:8080/"
        },
        "id": "Vtjz23WERQmh",
        "outputId": "94800936-b6e2-4532-b39b-267a0f5ba6dc"
      },
      "execution_count": null,
      "outputs": [
        {
          "output_type": "stream",
          "name": "stdout",
          "text": [
            "Melakukan Iterasi sebanyak  3  kali\n",
            "estimate = -1.6180339891173305\n"
          ]
        }
      ]
    },
    {
      "cell_type": "code",
      "source": [
        "#1b\n",
        "import numpy as np #panggil library\n",
        "from math import e\n",
        "def my_newton(f, df, x0, galat):\n",
        "#df turunan fungsi f\n",
        "#x0 adalah starting point\n",
        "  if abs(f(x0)) < galat:\n",
        "    return x0\n",
        "  else:\n",
        "    try:\n",
        "\n",
        "      return my_newton(f, df, x0 - f(x0)/df(x0), galat)\n",
        "    except:\n",
        "      print(\"Ada kesalahan\")\n",
        "\n",
        "f = lambda x: e**x - x\n",
        "f_prime = lambda x: e **x - 1\n",
        "#tidak akan bisa ketemu karena turunan fungsi e^x tetap e^x\n",
        "estimate = my_newton(f, f_prime, -1.7, 1e-5) #Jika x0 adalah -1.7 dan galat 0.0001\n",
        "print(\"estimate =\", estimate)"
      ],
      "metadata": {
        "colab": {
          "base_uri": "https://localhost:8080/"
        },
        "id": "u1MMEVMYTiLs",
        "outputId": "396daee9-643e-42c3-9971-6e6f1001a9dd"
      },
      "execution_count": 21,
      "outputs": [
        {
          "output_type": "stream",
          "name": "stdout",
          "text": [
            "Ada kesalahan\n",
            "estimate = None\n"
          ]
        }
      ]
    },
    {
      "cell_type": "code",
      "source": [
        "#1c\n",
        "#iterasi dimulai dari iterasi ke-0 menurut buku pa rinaldi munir\n",
        "import numpy as np #panggil library\n",
        "def my_newton(f, df, x0, galat,iterasi):\n",
        "#df turunan fungsi f\n",
        "#x0 adalah starting point\n",
        "  if abs(f(x0)) < galat:\n",
        "    print(\"Melakukan Iterasi sebanyak \", iterasi , \" kali\")\n",
        "    return x0\n",
        "  else:\n",
        "    iterasi = iterasi + 1\n",
        "    return my_newton(f, df, x0 - f(x0)/df(x0), galat,iterasi)\n",
        "f = lambda x: x**2 - 2 *x - 8\n",
        "f_prime = lambda x: 2*x - 2\n",
        "#dugaan pertama -1.7 dan galatnya 0.00005\n",
        "estimate = my_newton(f, f_prime, 3.75 , 1e-5, 0) #Jika x0 adalah -3.75 dan galat 0.0001\n",
        "print(\"estimate =\", estimate)\n"
      ],
      "metadata": {
        "colab": {
          "base_uri": "https://localhost:8080/"
        },
        "id": "RwhzXP3lq6KX",
        "outputId": "e0c05d7a-737f-4a95-8345-00b7bcfbd5ce"
      },
      "execution_count": null,
      "outputs": [
        {
          "output_type": "stream",
          "name": "stdout",
          "text": [
            "Melakukan Iterasi sebanyak  3  kali\n",
            "estimate = 4.000000000076617\n"
          ]
        }
      ]
    },
    {
      "cell_type": "markdown",
      "source": [
        "Jawaban no 1. Dengan Metode Newton (cara 2)\n",
        "\n",
        "perbandingannya (X-Xbaru < e)\n",
        "\n",
        "\n"
      ],
      "metadata": {
        "id": "-YgfTjB1IC9a"
      }
    },
    {
      "cell_type": "code",
      "source": [
        "import numpy as np #panggil library\n",
        "def my_newton(f, df, x0, e):\n",
        "#df turunan fungsi f\n",
        "#x0 adalah starting point/ perkiraan pertama\n",
        "  x_sebelumnya = x0;\n",
        "  x0 = x0 - f(x0)/df(x0)\n",
        "  if abs(x_sebelumnya-x0) < e:\n",
        "    return x0\n",
        "  else:\n",
        "    return my_newton(f, df, x0, e)"
      ],
      "metadata": {
        "id": "sKDwb7d3IMGs"
      },
      "execution_count": null,
      "outputs": []
    },
    {
      "cell_type": "code",
      "source": [
        "import numpy as np #panggil library\n",
        "from math import e\n",
        "def my_newton(f, df, x0, e,iterasi):\n",
        "#df turunan fungsi f\n",
        "#x0 adalah starting point/ perkiraan pertama\n",
        "  x_sebelumnya = x0\n",
        "  x0 = x0 - f(x0)/df(x0)\n",
        "  if abs(x_sebelumnya-x0) < e:\n",
        "    print(\"melakukan iterasi sebanyak \", iterasi)\n",
        "    return x0\n",
        "  else:\n",
        "    iterasi = iterasi + 1\n",
        "    return my_newton(f, df, x0, e,iterasi)\n",
        "f = lambda x: x**3 - 2*x + 1\n",
        "f_prime = lambda x: (3*x**2)-2\n",
        "estimate = my_newton(f, f_prime, -1.7, 1e-5,0) #Jika x0 adalah -1.7 dan galat 0.0001\n",
        "print(\"estimate =\", estimate)\n"
      ],
      "metadata": {
        "colab": {
          "base_uri": "https://localhost:8080/"
        },
        "id": "f8tRjfVrJF9T",
        "outputId": "e6b0706d-186f-4934-a6c0-455ad85e5e72"
      },
      "execution_count": 32,
      "outputs": [
        {
          "output_type": "stream",
          "name": "stdout",
          "text": [
            "melakukan iterasi sebanyak  3\n",
            "estimate = -1.618033988749895\n"
          ]
        }
      ]
    },
    {
      "cell_type": "code",
      "source": [
        "import numpy as np #panggil library\n",
        "def my_newton(f, df, x0, e,iterasi):\n",
        "#df turunan fungsi f\n",
        "#x0 adalah starting point/ perkiraan pertama\n",
        "  x_sebelumnya = x0\n",
        "  x0 = x0 - f(x0)/df(x0)\n",
        "  if abs(x_sebelumnya-x0) < e:\n",
        "    print(\"melakukan iterasi sebanyak\",iterasi)\n",
        "    return x0\n",
        "  else:\n",
        "    iterasi = iterasi + 1\n",
        "    try:\n",
        "\n",
        "      return my_newton(f, df, x0, e,iterasi)\n",
        "    except:\n",
        "      print(\"ada error\")\n",
        "  f = lambda x: e**x - x\n",
        "f_prime = lambda x: e **x - 1\n",
        "#tidak akan bisa ketemu karena turunan fungsi e^x tetap e^x \n",
        "estimate = my_newton(f, f_prime, -1.7, 1e-5,0)  #Jika x0 adalah -1.7 dan galat 0.0001\n",
        "print(\"estimate =\", estimate)"
      ],
      "metadata": {
        "colab": {
          "base_uri": "https://localhost:8080/"
        },
        "id": "IE6tEd5xLCMN",
        "outputId": "ceeb526a-ada0-4e78-a84c-349e11e9159a"
      },
      "execution_count": 31,
      "outputs": [
        {
          "output_type": "stream",
          "name": "stdout",
          "text": [
            "ada error\n",
            "estimate = None\n"
          ]
        }
      ]
    },
    {
      "cell_type": "code",
      "source": [
        "#1c\n",
        "#iterasi dimulai dari iterasi ke-0 menurut buku pa rinaldi munir\n",
        "import numpy as np #panggil library\n",
        "def my_newton(f, df, x0, galat,iterasi):\n",
        "  xsebelum  = x0\n",
        "  x0 = x0 - f(x0)/df(x0)\n",
        "#df turunan fungsi f\n",
        "#x0 adalah starting point\n",
        "  if abs(xsebelum-x0) < galat:\n",
        "    print(\"Melakukan Iterasi sebanyak \", iterasi , \" kali\")\n",
        "    return x0\n",
        "  else:\n",
        "    iterasi = iterasi + 1\n",
        "    return my_newton(f, df, x0 ,galat,iterasi)\n",
        "f = lambda x: x**2 - 2 *x - 8\n",
        "f_prime = lambda x: 2*x - 2\n",
        "#dugaan pertama -1.7 dan galatnya 0.00005\n",
        "estimate = my_newton(f, f_prime, 3.75 , 1e-5, 0) #Jika x0 adalah -3.75 dan galat 0.0001\n",
        "print(\"estimate =\", estimate)\n"
      ],
      "metadata": {
        "colab": {
          "base_uri": "https://localhost:8080/"
        },
        "id": "PVkTfgpL2y3R",
        "outputId": "01bf83a3-2c7f-4ffc-825e-64deb75df4cd"
      },
      "execution_count": 36,
      "outputs": [
        {
          "output_type": "stream",
          "name": "stdout",
          "text": [
            "Melakukan Iterasi sebanyak  3  kali\n",
            "estimate = 4.0\n"
          ]
        }
      ]
    },
    {
      "cell_type": "markdown",
      "source": [
        "Jawaban no 2 dengan batas sampai iterasi ke-3"
      ],
      "metadata": {
        "id": "cgAIEdFJxNzM"
      }
    },
    {
      "cell_type": "code",
      "source": [
        "#2a\n",
        "#iterasi dimulai dari iterasi ke-0 menurut buku pa rinaldi munir\n",
        "import numpy as np #panggil library\n",
        "def my_newton(f, df, x0,iterasi):\n",
        "#df turunan fungsi f\n",
        "#x0 adalah starting point\n",
        "  if iterasi == 3:\n",
        "    return x0\n",
        "  else:\n",
        "    iterasi = iterasi + 1\n",
        "    return my_newton(f, df, x0 - f(x0)/df(x0),iterasi)\n",
        "f = lambda x: x**3 - 2*x + 1\n",
        "f_prime = lambda x: (3*x**2)-2\n",
        "#dugaan pertama -1.7 dan galatnya 0.00005\n",
        "estimate = my_newton(f, f_prime, -1.7,0) #Jika x0 adalah -1.7 dan galat 0.0001\n",
        "print(\"estimate =\", estimate)\n"
      ],
      "metadata": {
        "colab": {
          "base_uri": "https://localhost:8080/"
        },
        "id": "fElSGWHxxQ6L",
        "outputId": "41e22136-1c8f-47d8-aa43-688388ca80b7"
      },
      "execution_count": 24,
      "outputs": [
        {
          "output_type": "stream",
          "name": "stdout",
          "text": [
            "estimate = -1.6180339891173305\n"
          ]
        }
      ]
    },
    {
      "cell_type": "code",
      "source": [
        "#2b\n",
        "import numpy as np #panggil library\n",
        "from math import e\n",
        "def my_newton(f, df, x0,iterasi):\n",
        "#df turunan fungsi f\n",
        "#x0 adalah starting point\n",
        "  if iterasi == 3:\n",
        "    return x0\n",
        "  else:\n",
        "    iterasi = iterasi + 1\n",
        "    return my_newton(f, df, x0 - f(x0)/df(x0),iterasi)\n",
        "\n",
        "\n",
        "f = lambda x: e**x - x\n",
        "f_prime = lambda x: e **x - 1\n",
        "#tidak akan bisa ketemu karena turunan fungsi e^x tetap e^x\n",
        "estimate = my_newton(f, f_prime, -1.7, 0)\n",
        "print(\"estimate =\", estimate)"
      ],
      "metadata": {
        "colab": {
          "base_uri": "https://localhost:8080/"
        },
        "id": "Tk49HflPx0xT",
        "outputId": "48896c22-fe5f-47ee-f680-8c30c3fe8e8f"
      },
      "execution_count": 23,
      "outputs": [
        {
          "output_type": "stream",
          "name": "stdout",
          "text": [
            "estimate = 1.340217858946818\n"
          ]
        }
      ]
    },
    {
      "cell_type": "code",
      "source": [
        "#2c\n",
        "#iterasi dimulai dari iterasi ke-0 menurut buku pa rinaldi munir\n",
        "import numpy as np #panggil library\n",
        "def my_newton(f, df, x0,iterasi):\n",
        "#df turunan fungsi f\n",
        "#x0 adalah starting point\n",
        "  if iterasi == 3:\n",
        "    return x0\n",
        "  else:\n",
        "    iterasi = iterasi + 1\n",
        "    return my_newton(f, df, x0 - f(x0)/df(x0),iterasi)\n",
        "f = lambda x: x**2 - 2 *x - 8\n",
        "f_prime = lambda x: 2*x - 2\n",
        "#dugaan pertama -1.7 dan galatnya 0.00005\n",
        "estimate = my_newton(f, f_prime, 3.75 ,0)\n",
        "print(\"estimate =\", estimate)\n"
      ],
      "metadata": {
        "colab": {
          "base_uri": "https://localhost:8080/"
        },
        "id": "Bz_qQDQayxYq",
        "outputId": "9bd73389-b802-4da5-f95d-0e57f91af443"
      },
      "execution_count": 20,
      "outputs": [
        {
          "output_type": "stream",
          "name": "stdout",
          "text": [
            "estimate = 4.000000000076617\n"
          ]
        }
      ]
    }
  ]
}